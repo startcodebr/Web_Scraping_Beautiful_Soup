{
  "nbformat": 4,
  "nbformat_minor": 0,
  "metadata": {
    "colab": {
      "name": "bs0002.ipynb",
      "provenance": [],
      "collapsed_sections": []
    },
    "kernelspec": {
      "name": "python3",
      "display_name": "Python 3"
    }
  },
  "cells": [
    {
      "cell_type": "markdown",
      "metadata": {
        "id": "8wmcN8G2J1cL",
        "colab_type": "text"
      },
      "source": [
        "# Data World Xcrap 🌍"
      ]
    },
    {
      "cell_type": "markdown",
      "metadata": {
        "id": "uj7lLikVMKrB",
        "colab_type": "text"
      },
      "source": [
        "**Data Scraping IMDB Movie Site using Python**\n",
        "\n",
        "# Step-by-Step python code"
      ]
    },
    {
      "cell_type": "code",
      "metadata": {
        "id": "OG5c0D_UJy6_",
        "colab_type": "code",
        "colab": {
          "base_uri": "https://localhost:8080/",
          "height": 125
        },
        "outputId": "325c7a45-3046-482e-9845-1e1d4352b591"
      },
      "source": [
        "from google.colab import drive\n",
        "drive.mount('/content/gdrive')"
      ],
      "execution_count": null,
      "outputs": [
        {
          "output_type": "stream",
          "text": [
            "Go to this URL in a browser: https://accounts.google.com/o/oauth2/auth?client_id=947318989803-6bn6qk8qdgf4n4g3pfee6491hc0brc4i.apps.googleusercontent.com&redirect_uri=urn%3aietf%3awg%3aoauth%3a2.0%3aoob&response_type=code&scope=email%20https%3a%2f%2fwww.googleapis.com%2fauth%2fdocs.test%20https%3a%2f%2fwww.googleapis.com%2fauth%2fdrive%20https%3a%2f%2fwww.googleapis.com%2fauth%2fdrive.photos.readonly%20https%3a%2f%2fwww.googleapis.com%2fauth%2fpeopleapi.readonly\n",
            "\n",
            "Enter your authorization code:\n",
            "··········\n",
            "Mounted at /content/gdrive\n"
          ],
          "name": "stdout"
        }
      ]
    },
    {
      "cell_type": "markdown",
      "metadata": {
        "id": "EsNvSJ60MVTL",
        "colab_type": "text"
      },
      "source": [
        "**Import Modules:**"
      ]
    },
    {
      "cell_type": "code",
      "metadata": {
        "id": "hMMIhjd3J5qJ",
        "colab_type": "code",
        "colab": {}
      },
      "source": [
        "import pandas as pd\n",
        "import numpy as np\n",
        "import re\n",
        "import lxml\n",
        "\n",
        "from bs4 import BeautifulSoup\n",
        "from requests import get\n",
        "%matplotlib inline"
      ],
      "execution_count": null,
      "outputs": []
    },
    {
      "cell_type": "markdown",
      "metadata": {
        "id": "4zZWz-hoMk7h",
        "colab_type": "text"
      },
      "source": [
        "**Get the link of the page for the top 100 most popular movies:**"
      ]
    },
    {
      "cell_type": "code",
      "metadata": {
        "id": "yFIZVQcsL5x7",
        "colab_type": "code",
        "colab": {}
      },
      "source": [
        "url = \"https://www.imdb.com/search/title?count=100&title_type=feature,tv_series&ref_=nv_wl_img_2\""
      ],
      "execution_count": null,
      "outputs": []
    },
    {
      "cell_type": "markdown",
      "metadata": {
        "id": "DTl8_vW6NbWb",
        "colab_type": "text"
      },
      "source": [
        "**Get the html of the page using requests.get(url) framework**"
      ]
    },
    {
      "cell_type": "code",
      "metadata": {
        "id": "N4GdZFSwMoJX",
        "colab_type": "code",
        "colab": {}
      },
      "source": [
        "page = get(url)"
      ],
      "execution_count": null,
      "outputs": []
    },
    {
      "cell_type": "markdown",
      "metadata": {
        "id": "7jbAvfd3NhtY",
        "colab_type": "text"
      },
      "source": [
        "**Using Beautifulsoup and lxml to parse the html data**"
      ]
    },
    {
      "cell_type": "code",
      "metadata": {
        "id": "vdJjx6E8NehO",
        "colab_type": "code",
        "colab": {}
      },
      "source": [
        "soup = BeautifulSoup(page.content, 'lxml')"
      ],
      "execution_count": null,
      "outputs": []
    },
    {
      "cell_type": "markdown",
      "metadata": {
        "id": "F_b7gnIUNuZn",
        "colab_type": "text"
      },
      "source": [
        "**Get the element or tag that holds the movie contents**"
      ]
    },
    {
      "cell_type": "code",
      "metadata": {
        "id": "I5VJDwSJNoQr",
        "colab_type": "code",
        "colab": {}
      },
      "source": [
        "content = soup.find(id=\"main\")"
      ],
      "execution_count": null,
      "outputs": []
    },
    {
      "cell_type": "markdown",
      "metadata": {
        "id": "iAdrAuwmN26O",
        "colab_type": "text"
      },
      "source": [
        "Get Article Title\n",
        "\n",
        "soup.find(\"h1\", class_=\"header\")\n",
        "\n",
        "finds the first line that has h1 tag and has a class header.\n",
        "\n",
        ".text gets the text of that line or that element.\n",
        "\n",
        ".replace(\"\\n\",\"\") just erases \\n."
      ]
    },
    {
      "cell_type": "code",
      "metadata": {
        "id": "9T9bJ5SBNy_s",
        "colab_type": "code",
        "colab": {}
      },
      "source": [
        "articleTitle = soup.find(\"h1\", class_=\"header\").text.replace(\"\\n\",\"\")"
      ],
      "execution_count": null,
      "outputs": []
    },
    {
      "cell_type": "code",
      "metadata": {
        "id": "46712k-9OBXo",
        "colab_type": "code",
        "colab": {}
      },
      "source": [
        "movieFrame = content.find_all(\"div\", class_=\"lister-item mode-advanced\")"
      ],
      "execution_count": null,
      "outputs": []
    },
    {
      "cell_type": "code",
      "metadata": {
        "id": "RLhlOrVVOE2m",
        "colab_type": "code",
        "colab": {}
      },
      "source": [
        "movieFirstLine = movieFrame[0].find(\"h3\", class_=\"lister-item-header\")"
      ],
      "execution_count": null,
      "outputs": []
    },
    {
      "cell_type": "code",
      "metadata": {
        "id": "9Sde5PTSOHqc",
        "colab_type": "code",
        "colab": {}
      },
      "source": [
        "movieTitle = movieFirstLine.find(\"a\").text"
      ],
      "execution_count": null,
      "outputs": []
    },
    {
      "cell_type": "code",
      "metadata": {
        "id": "2_VmxR_hOJ6_",
        "colab_type": "code",
        "colab": {}
      },
      "source": [
        "movieDate = re.sub(r\"[()]\",\"\", movieFirstLine.find_all(\"span\")[-1].text)"
      ],
      "execution_count": null,
      "outputs": []
    },
    {
      "cell_type": "code",
      "metadata": {
        "id": "zNdBytjbOMU4",
        "colab_type": "code",
        "colab": {}
      },
      "source": [
        "movieRunTime = movieFrame[0].find(\"span\", class_=\"runtime\").text[:-4]"
      ],
      "execution_count": null,
      "outputs": []
    },
    {
      "cell_type": "code",
      "metadata": {
        "id": "EO2k4w9eOOsf",
        "colab_type": "code",
        "colab": {}
      },
      "source": [
        "movieGenre = movieFrame[0].find(\"span\", class_=\"genre\").text.rstrip().replace(\"\\n\",\"\").split(\",\")"
      ],
      "execution_count": null,
      "outputs": []
    },
    {
      "cell_type": "code",
      "metadata": {
        "id": "MI8P4TCJORAa",
        "colab_type": "code",
        "colab": {}
      },
      "source": [
        "movieRating = movieFrame[0].find(\"strong\").text"
      ],
      "execution_count": null,
      "outputs": []
    },
    {
      "cell_type": "code",
      "metadata": {
        "id": "28bVXXG_QUyD",
        "colab_type": "code",
        "colab": {}
      },
      "source": [
        "movieScore = movieFrame[0].find(\"span\", class_=\"metascore unfavorable\").text.rstrip()"
      ],
      "execution_count": null,
      "outputs": []
    },
    {
      "cell_type": "code",
      "metadata": {
        "id": "dy3YqqbYQWUX",
        "colab_type": "code",
        "colab": {}
      },
      "source": [
        "movieScore = movieFrame[0].find(\"span\", class_=\"metascore favorable\").text.rstrip()"
      ],
      "execution_count": null,
      "outputs": []
    },
    {
      "cell_type": "code",
      "metadata": {
        "id": "vHx7kzv9OU64",
        "colab_type": "code",
        "colab": {}
      },
      "source": [
        "movieDesc = movieFrame[0].find_all(\"p\", class_=\"text-muted\")[-1].text.lstrip()"
      ],
      "execution_count": null,
      "outputs": []
    },
    {
      "cell_type": "code",
      "metadata": {
        "id": "jsJ0KeMEQX-T",
        "colab_type": "code",
        "colab": {}
      },
      "source": [
        "movieCast = movieFrame[0].find(\"p\", class_=\"\")"
      ],
      "execution_count": null,
      "outputs": []
    },
    {
      "cell_type": "code",
      "metadata": {
        "id": "mOG8fhq1QeBk",
        "colab_type": "code",
        "colab": {}
      },
      "source": [
        "#Movie Director and Movie Stars\n",
        "try:\n",
        "    casts = movieCast.text.replace(\"\\n\",\"\").split('|')\n",
        "    casts = [x.strip() for x in casts]\n",
        "    casts = [casts[i].replace(j, \"\") for i,j in enumerate([\"Director:\", \"Stars:\"])]\n",
        "    movieDirector = casts[0]\n",
        "    movieStars = [x.strip() for x in casts[1].split(\",\")]\n",
        "except:\n",
        "    casts = movieCast.text.replace(\"\\n\",\"\").strip()\n",
        "    movieDirector = np.nan\n",
        "    movieStars = [x.strip() for x in casts.split(\",\")]"
      ],
      "execution_count": null,
      "outputs": []
    },
    {
      "cell_type": "code",
      "metadata": {
        "id": "kmX8KDc9QoW5",
        "colab_type": "code",
        "colab": {}
      },
      "source": [
        "movieNumbers = movieFrame[0].find_all(\"span\", attrs={\"name\": \"nv\"})"
      ],
      "execution_count": null,
      "outputs": []
    },
    {
      "cell_type": "code",
      "metadata": {
        "id": "sJc-G09mQqtX",
        "colab_type": "code",
        "colab": {}
      },
      "source": [
        "if len(movieNumbers) == 2:\n",
        "    movieVotes = movieNumbers[0].text\n",
        "    movieGross = movieNumbers[1].text\n",
        "else:\n",
        "    movieVotes = movieNumbers[0].text\n",
        "    movieGross = np.nan"
      ],
      "execution_count": null,
      "outputs": []
    },
    {
      "cell_type": "markdown",
      "metadata": {
        "id": "7gVP7pVvYPjk",
        "colab_type": "text"
      },
      "source": [
        "# IMDb class jupyter notebook code (full)"
      ]
    },
    {
      "cell_type": "markdown",
      "metadata": {
        "id": "k-05Q1LYRr9t",
        "colab_type": "text"
      },
      "source": [
        "**Import Modules:**"
      ]
    },
    {
      "cell_type": "code",
      "metadata": {
        "id": "-V_IXadBQtiz",
        "colab_type": "code",
        "colab": {}
      },
      "source": [
        "import lxml\n",
        "import re\n",
        "import numpy as np\n",
        "import pandas as pd\n",
        "\n",
        "from bs4 import BeautifulSoup\n",
        "from requests import get"
      ],
      "execution_count": null,
      "outputs": []
    },
    {
      "cell_type": "code",
      "metadata": {
        "id": "Qg-j5AaTQz97",
        "colab_type": "code",
        "colab": {}
      },
      "source": [
        "url1 = \"https://www.imdb.com/search/title?count=100&title_type=feature,tv_series&ref_=nv_wl_img_2\""
      ],
      "execution_count": null,
      "outputs": []
    },
    {
      "cell_type": "code",
      "metadata": {
        "id": "BhdczHGfQ5w_",
        "colab_type": "code",
        "colab": {}
      },
      "source": [
        "class IMDB(object):\n",
        "\t\"\"\"docstring for IMDB\"\"\"\n",
        "\tdef __init__(self, url):\n",
        "\t\tsuper(IMDB, self).__init__()\n",
        "\t\tpage = get(url)\n",
        "\n",
        "\t\tself.soup = BeautifulSoup(page.content, 'lxml')\n",
        "\n",
        "\tdef articleTitle(self):\n",
        "\t\treturn self.soup.find(\"h1\", class_=\"header\").text.replace(\"\\n\",\"\")\n",
        "\n",
        "\tdef bodyContent(self):\n",
        "\t\tcontent = self.soup.find(id=\"main\")\n",
        "\t\treturn content.find_all(\"div\", class_=\"lister-item mode-advanced\")\n",
        "\n",
        "\tdef movieData(self):\n",
        "\t\tmovieFrame = self.bodyContent()\n",
        "\t\tmovieTitle = []\n",
        "\t\tmovieDate = []\n",
        "\t\tmovieRunTime = []\n",
        "\t\tmovieGenre = []\n",
        "\t\tmovieRating = []\n",
        "\t\tmovieScore = []\n",
        "\t\tmovieDescription = []\n",
        "\t\tmovieDirector = []\n",
        "\t\tmovieStars = []\n",
        "\t\tmovieVotes = []\n",
        "\t\tmovieGross = []\n",
        "\t\tfor movie in movieFrame:\n",
        "\t\t\tmovieFirstLine = movie.find(\"h3\", class_=\"lister-item-header\")\n",
        "\t\t\tmovieTitle.append(movieFirstLine.find(\"a\").text)\n",
        "\t\t\tmovieDate.append(re.sub(r\"[()]\",\"\", movieFirstLine.find_all(\"span\")[-1].text))\n",
        "\t\t\ttry:\n",
        "\t\t\t\tmovieRunTime.append(movie.find(\"span\", class_=\"runtime\").text[:-4])\n",
        "\t\t\texcept:\n",
        "\t\t\t\tmovieRunTime.append(np.nan)\n",
        "\t\t\tmovieGenre.append(movie.find(\"span\", class_=\"genre\").text.rstrip().replace(\"\\n\",\"\").split(\",\"))\n",
        "\t\t\ttry:\n",
        "\t\t\t\tmovieRating.append(movie.find(\"strong\").text)\n",
        "\t\t\texcept:\n",
        "\t\t\t\tmovieRating.append(np.nan)\n",
        "\t\t\ttry:\n",
        "\t\t\t\tmovieScore.append(movie.find(\"span\", class_=\"metascore unfavorable\").text.rstrip())\n",
        "\t\t\texcept:\n",
        "\t\t\t\tmovieScore.append(np.nan)\n",
        "\t\t\tmovieDescription.append(movie.find_all(\"p\", class_=\"text-muted\")[-1].text.lstrip())\n",
        "\t\t\tmovieCast = movie.find(\"p\", class_=\"\")\n",
        "\n",
        "\t\t\ttry:\n",
        "\t\t\t\tcasts = movieCast.text.replace(\"\\n\",\"\").split('|')\n",
        "\t\t\t\tcasts = [x.strip() for x in casts]\n",
        "\t\t\t\tcasts = [casts[i].replace(j, \"\") for i,j in enumerate([\"Director:\", \"Stars:\"])]\n",
        "\t\t\t\tmovieDirector.append(casts[0])\n",
        "\t\t\t\tmovieStars.append([x.strip() for x in casts[1].split(\",\")])\n",
        "\t\t\texcept:\n",
        "\t\t\t\tcasts = movieCast.text.replace(\"\\n\",\"\").strip()\n",
        "\t\t\t\tmovieDirector.append(np.nan)\n",
        "\t\t\t\tmovieStars.append([x.strip() for x in casts.split(\",\")])\n",
        "\n",
        "\t\t\tmovieNumbers = movie.find_all(\"span\", attrs={\"name\": \"nv\"})\n",
        "\n",
        "\t\t\tif len(movieNumbers) == 2:\n",
        "\t\t\t\tmovieVotes.append(movieNumbers[0].text)\n",
        "\t\t\t\tmovieGross.append(movieNumbers[1].text)\n",
        "\t\t\telif len(movieNumbers) == 1:\n",
        "\t\t\t\tmovieVotes.append(movieNumbers[0].text)\n",
        "\t\t\t\tmovieGross.append(np.nan)\n",
        "\t\t\telse:\n",
        "\t\t\t\tmovieVotes.append(np.nan)\n",
        "\t\t\t\tmovieGross.append(np.nan)\n",
        "\n",
        "\t\tmovieData = [movieTitle, movieDate, movieRunTime, movieGenre, movieRating, movieScore, movieDescription,\n",
        "\t\t\t\t\t\t\tmovieDirector, movieStars, movieVotes, movieGross]\n",
        "\t\treturn movieData"
      ],
      "execution_count": null,
      "outputs": []
    },
    {
      "cell_type": "code",
      "metadata": {
        "id": "WfByLjZdQ_kK",
        "colab_type": "code",
        "colab": {
          "base_uri": "https://localhost:8080/",
          "height": 250
        },
        "outputId": "ef62e6cb-8a8b-42e7-ee56-576773a4fcf1"
      },
      "source": [
        "if __name__ == '__main__':\n",
        "\tsite1 = IMDB(url1)\n",
        "\tprint(\"Subject: \", site1.articleTitle())\n",
        "\tdata = site1.movieData()\n",
        "\tfor i in range(len(data)):\n",
        "\t\tprint(data[i][:]) #Print the data"
      ],
      "execution_count": null,
      "outputs": [
        {
          "output_type": "stream",
          "text": [
            "Subject:  Feature Film/TV Series(Sorted by Popularity Ascending) \n",
            "['365 Days', 'Da 5 Bloods', 'Artemis Fowl', 'The King of Staten Island', 'Dark', 'Knives Out', '13 Reasons Why', 'Game of Thrones', 'Community', 'Space Force', 'You Should Have Left', 'Marcella', 'Snowpiercer', 'The Office', 'The 100', 'Vikings', 'Supernatural', 'F Is for Family', 'The Order', \"Grey's Anatomy\", 'Palm Springs', 'Breaking Bad', 'Ozark', 'Hannibal', 'Money Heist', 'Avatar: The Last Airbender', 'Love, Victor', 'The Walking Dead', 'Tenet', 'Rick and Morty', 'Peaky Blinders', 'Yellowstone', 'Friends', 'The Last Kingdom', 'Modern Family', 'What We Do in the Shadows', 'Criminal Minds', 'Billions', 'The Sinner', 'The Salisbury Poisonings', 'Agents of S.H.I.E.L.D.', 'Stranger Things', 'The Politician', 'Uncut Gems', 'Outlander', 'Brooklyn Nine-Nine', \"Schitt's Creek\", 'Westworld', 'The Sopranos', 'Black Mirror', 'Lucifer', 'How to Get Away with Murder', 'The Big Bang Theory', 'Parasite', 'The Last Days of American Crime', 'Killing Eve', 'Queen of the South', 'Once Upon a Time... in Hollywood', 'Lost', 'Sweet Magnolias', 'The Hunt', 'Joker', 'Dead to Me', 'The Great', 'The Gentlemen', 'Better Call Saul', 'Homeland', 'Stargirl', 'The Blacklist', 'The Flash', 'New Girl', 'Just Mercy', 'The Mandalorian', 'Law & Order: Special Victims Unit', 'Outer Banks', 'Sons of Anarchy', 'Parks and Recreation', 'The Wire', 'Cursed', 'Dune', '7500', 'Curon', 'Bill & Ted Face the Music', \"The Handmaid's Tale\", 'Prison Break', 'Gulabo Sitabo', 'NCIS', 'Buffy the Vampire Slayer', 'White Lines', 'American Horror Story', 'Normal People', 'Avengers: Endgame', 'Fargo', 'Doom Patrol', \"That '70s Show\", 'Doctor Who', 'The Personal History of David Copperfield', 'The Invisible Man', '1917', 'The Vast of Night']\n",
            "['2020', '2020', '2020', '2020', '2017–2020', '2019', '2017–2020', '2011–2019', '2009–2015', '2020– ', '2020', '2016– ', '2020– ', '2005–2013', '2014– ', '2013– ', '2005–2020', '2015– ', '2019– ', '2005– ', '2020', '2008–2013', '2017– ', '2013–2015', '2017– ', '2005–2008', '2020– ', '2010– ', '2020', '2013– ', '2013– ', '2018– ', '1994–2004', '2015– ', '2009–2020', '2019– ', '2005–2020', '2016– ', '2017– ', '2020– ', '2013–2020', '2016– ', '2019– ', '2019', '2014– ', '2013– ', '2015–2020', '2016– ', '1999–2007', '2011– ', '2015– ', '2014–2020', '2007–2019', '2019', '2020', '2018– ', '2016– ', '2019', '2004–2010', '2020– ', 'II 2020', '2019', '2019– ', '2020– ', '2019', '2015– ', '2011–2020', '2020– ', '2013– ', '2014– ', '2011–2018', '2019', '2019– ', '1999– ', '2020– ', '2008–2014', '2009–2020', '2002–2008', '2020– ', 'I 2020', '2019', '2020– ', '2020', '2017– ', '2005–2017', '2020', '2003– ', '1997–2003', '2020– ', '2011– ', '2020', '2019', '2014– ', '2019– ', '1998–2006', '2005– ', '2019', 'I 2020', '2019', '2019']\n",
            "['114', '154', '95', '136', '60', '130', '60', '57', '22', '30', '93', '45', '60', '22', '43', '44', '44', '30', '60', '41', '90', '49', '60', '44', '70', '23', '30', '44', nan, '23', '60', '60', '22', '60', '22', '30', '42', '60', '45', '45', '45', '51', '42', '135', '64', '22', '22', '62', '55', '60', '42', '43', '22', '132', '148', '42', '42', '161', '44', nan, '90', '122', '30', nan, '113', '46', '55', '45', '43', '43', '22', '137', '40', '60', '50', '45', '22', '59', nan, nan, '93', nan, nan, '60', '44', '124', '60', '44', '60', '60', nan, '181', '53', '60', '22', '45', '119', '124', '119', '91']\n",
            "[['Drama', ' Romance'], ['Adventure', ' Drama', ' War'], ['Adventure', ' Family', ' Fantasy'], ['Comedy', ' Drama'], ['Crime', ' Drama', ' Mystery'], ['Comedy', ' Crime', ' Drama'], ['Drama', ' Mystery'], ['Action', ' Adventure', ' Drama'], ['Comedy'], ['Comedy'], ['Drama', ' Horror', ' Mystery'], ['Crime', ' Drama', ' Mystery'], ['Action', ' Drama', ' Sci-Fi'], ['Comedy'], ['Drama', ' Mystery', ' Sci-Fi'], ['Action', ' Adventure', ' Drama'], ['Drama', ' Fantasy', ' Horror'], ['Animation', ' Comedy', ' Drama'], ['Drama', ' Fantasy', ' Horror'], ['Drama', ' Romance'], ['Comedy', ' Romance'], ['Crime', ' Drama', ' Thriller'], ['Crime', ' Drama', ' Thriller'], ['Crime', ' Drama', ' Horror'], ['Action', ' Crime', ' Mystery'], ['Animation', ' Action', ' Adventure'], ['Comedy', ' Drama', ' Romance'], ['Drama', ' Horror', ' Thriller'], ['Action', ' Sci-Fi', ' Thriller'], ['Animation', ' Adventure', ' Comedy'], ['Crime', ' Drama'], ['Drama', ' Western'], ['Comedy', ' Romance'], ['Action', ' Drama', ' History'], ['Comedy', ' Drama', ' Romance'], ['Comedy', ' Fantasy', ' Horror'], ['Crime', ' Drama', ' Mystery'], ['Drama'], ['Crime', ' Drama', ' Mystery'], ['Crime', ' Drama', ' History'], ['Action', ' Adventure', ' Drama'], ['Drama', ' Fantasy', ' Horror'], ['Comedy', ' Drama'], ['Crime', ' Drama', ' Thriller'], ['Drama', ' Fantasy', ' Romance'], ['Comedy', ' Crime'], ['Comedy'], ['Drama', ' Mystery', ' Sci-Fi'], ['Crime', ' Drama'], ['Drama', ' Sci-Fi', ' Thriller'], ['Crime', ' Drama', ' Fantasy'], ['Crime', ' Drama', ' Mystery'], ['Comedy', ' Romance'], ['Comedy', ' Drama', ' Thriller'], ['Action', ' Crime', ' Thriller'], ['Action', ' Adventure', ' Drama'], ['Action', ' Crime', ' Drama'], ['Comedy', ' Drama'], ['Adventure', ' Drama', ' Fantasy'], ['Drama', ' Romance'], ['Action', ' Horror', ' Thriller'], ['Crime', ' Drama', ' Thriller'], ['Comedy', ' Drama'], ['Biography', ' Comedy', ' Drama'], ['Action', ' Comedy', ' Crime'], ['Crime', ' Drama'], ['Crime', ' Drama', ' Mystery'], ['Action', ' Adventure', ' Crime'], ['Crime', ' Drama', ' Mystery'], ['Action', ' Adventure', ' Drama'], ['Comedy'], ['Biography', ' Crime', ' Drama'], ['Action', ' Adventure', ' Sci-Fi'], ['Crime', ' Drama', ' Mystery'], ['Action', ' Crime', ' Drama'], ['Crime', ' Drama', ' Thriller'], ['Comedy'], ['Crime', ' Drama', ' Thriller'], ['Adventure', ' Drama', ' Fantasy'], ['Adventure', ' Drama', ' Sci-Fi'], ['Drama', ' Thriller'], ['Fantasy', ' Mystery', ' Thriller'], ['Comedy', ' Music', ' Sci-Fi'], ['Drama', ' Sci-Fi', ' Thriller'], ['Action', ' Crime', ' Drama'], ['Comedy', ' Drama'], ['Action', ' Crime', ' Drama'], ['Action', ' Drama', ' Fantasy'], ['Crime', ' Drama', ' Mystery'], ['Drama', ' Horror', ' Thriller'], ['Drama', ' Romance'], ['Action', ' Adventure', ' Drama'], ['Crime', ' Drama', ' Thriller'], ['Action', ' Adventure', ' Comedy'], ['Comedy', ' Romance'], ['Adventure', ' Drama', ' Family'], ['Comedy', ' Drama'], ['Horror', ' Mystery', ' Sci-Fi'], ['Drama', ' War'], ['Drama', ' Mystery', ' Sci-Fi']]\n",
            "['3.5', '6.7', '4.1', '7.2', '8.8', '7.9', '7.7', '9.3', '8.5', '6.8', '5.3', '7.4', '6.3', '8.9', '7.7', '8.5', '8.4', '8.0', '6.9', '7.6', '7.2', '9.5', '8.4', '8.5', '8.4', '9.2', '8.2', '8.2', nan, '9.2', '8.8', '8.4', '8.9', '8.4', '8.4', '8.4', '8.1', '8.4', '8.0', '7.2', '7.5', '8.8', '7.5', '7.5', '8.4', '8.4', '8.4', '8.7', '9.2', '8.8', '8.2', '8.1', '8.1', '8.6', '3.6', '8.3', '7.9', '7.7', '8.3', '7.5', '6.4', '8.5', '8.1', '8.1', '7.9', '8.7', '8.3', '7.4', '8.0', '7.7', '7.7', '7.6', '8.7', '8.0', '7.6', '8.6', '8.6', '9.3', nan, nan, '6.2', '5.7', nan, '8.5', '8.3', '6.5', '7.8', '8.2', '6.6', '8.0', '8.6', '8.4', '8.9', '8.0', '8.1', '8.6', '6.3', '7.1', '8.3', '6.7']\n",
            "[nan, nan, '31', nan, nan, nan, nan, nan, nan, nan, nan, nan, nan, nan, nan, nan, nan, nan, nan, nan, nan, nan, nan, nan, nan, nan, nan, nan, nan, nan, nan, nan, nan, nan, nan, nan, nan, nan, nan, nan, nan, nan, nan, nan, nan, nan, nan, nan, nan, nan, nan, nan, nan, nan, '15', nan, nan, nan, nan, nan, nan, nan, nan, nan, nan, nan, nan, nan, nan, nan, nan, nan, nan, nan, nan, nan, nan, nan, nan, nan, nan, nan, nan, nan, nan, nan, nan, nan, nan, nan, nan, nan, nan, nan, nan, nan, nan, nan, nan, nan]\n",
            "['Massimo is a member of the Sicilian Mafia family and Laura is a sales director. She does not expect that on a trip to Sicily trying to save her relationship, Massimo will kidnap her and give her 365 days to fall in love with him.', 'Four African American vets battle the forces of man and nature when they return to Vietnam seeking the remains of their fallen squad leader and the gold fortune he helped them hide.', 'Artemis Fowl, a young criminal prodigy, hunts down a secret society of fairies to find his missing father.', 'Scott has been a case of arrested development since his firefighter dad died. He spends his days smoking weed and dreaming of being a tattoo artist until events force him to grapple with his grief and take his first steps forward in life.', 'A family saga with a supernatural twist, set in a German town, where the disappearance of two young children exposes the relationships among four families.', 'A detective investigates the death of a patriarch of an eccentric, combative family.', 'Follows teenager Clay Jensen, in his quest to uncover the story behind his classmate and crush, Hannah, and her decision to end her life.', 'Nine noble families fight for control over the lands of Westeros, while an ancient enemy returns after being dormant for millennia.', 'A suspended lawyer is forced to enroll in a community college with an eccentric staff and student body.', 'The people tasked with creating a sixth branch of the armed services: The Space Force.', 'A former banker, his actress wife, and their spirited daughter book a vacation at an isolated modern home in the Welsh countryside where nothing is quite as it seems.', 'Marcella Backland left the Metropolitan Police for the sake of her family, only to have her husband leave her. She returns to her job on the murder squad, investigating a case that seems disturbingly familiar to her.', 'Seven years after the world has become a frozen wasteland, the remnants of humanity inhabit a perpetually-moving train that circles the globe, where class warfare, social injustice and the politics of survival play out.', 'A mockumentary on a group of typical office workers, where the workday consists of ego clashes, inappropriate behavior, and tedium.', \"Set ninety-seven years after a nuclear war has destroyed civilization, when a spaceship housing humanity's lone survivors sends one hundred juvenile delinquents back to Earth, in hopes of possibly re-populating the planet.\", 'Vikings transports us to the brutal and mysterious world of Ragnar Lothbrok, a Viking warrior and farmer who yearns to explore - and raid - the distant shores across the ocean.', \"Two brothers follow their father's footsteps as hunters, fighting evil supernatural beings of many kinds, including monsters, demons and gods that roam the earth.\", 'Follow the Murphy family back to the 1970s, when kids roamed wild, beer flowed freely and nothing came between a man and his TV.', \"Out to avenge his mother's death, a college student pledges to a secret order and lands in a war between werewolves and practitioners of dark magic.\", 'A drama centered on the personal and professional lives of five surgical interns and their supervisors.', 'When carefree Nyles and reluctant maid of honor Sarah have a chance encounter at a Palm Springs wedding, things get complicated as they are unable to escape the venue, themselves, or each other.', \"A high school chemistry teacher diagnosed with inoperable lung cancer turns to manufacturing and selling methamphetamine in order to secure his family's future.\", 'A financial advisor drags his family from Chicago to the Missouri Ozarks, where he must launder money to appease a drug boss.', 'Explores the early relationship between the renowned psychiatrist and his patient, a young FBI criminal profiler, who is haunted by his ability to empathize with serial killers.', 'An unusual group of robbers attempt to carry out the most perfect robbery in Spanish history - stealing 2.4 billion euros from the Royal Mint of Spain.', 'In a war-torn world of elemental magic, a young boy reawakens to undertake a dangerous mystic quest to fulfill his destiny as the Avatar, and bring peace to the world.', 'Victor is a new student at Creekwood High School on his own journey of self-discovery, facing challenges at home, adjusting to a new city, and struggling with his sexual orientation.', 'Sheriff Deputy Rick Grimes wakes up from a coma to learn the world is in ruins and must lead a group of survivors to stay alive.', 'Armed with only one word -- Tenet -- and fighting for the survival of the entire world, the Protagonist journeys through a twilight world of international espionage on a mission that will unfold in something beyond real time.', 'An animated series that follows the exploits of a super scientist and his not-so-bright grandson.', 'A gangster family epic set in 1919 Birmingham, England; centered on a gang who sew razor blades in the peaks of their caps, and their fierce boss Tommy Shelby.', 'A ranching family in Montana faces off against others encroaching on their land.', 'Follows the personal and professional lives of six twenty to thirty-something-year-old friends living in Manhattan.', 'As Alfred the Great defends his kingdom from Norse invaders, Uhtred - born a Saxon but raised by Vikings - seeks to claim his ancestral birthright.', 'Three different but related families face trials and tribulations in their own uniquely comedic ways.', \"A look into the daily (or rather, nightly) lives of three vampires, who've lived together for over 100 years, on Staten Island.\", \"The cases of the F.B.I. Behavioral Analysis Unit (B.A.U.), an elite group of profilers who analyze the nation's most dangerous serial killers and individual heinous crimes in an effort to anticipate their next moves before they strike again.\", 'U.S. Attorney Chuck Rhoades goes after hedge fund king Bobby \"Axe\" Axelrod in a battle between two powerful New York figures.', 'Anthology series that examines how and why ordinary people commit brutal crimes.', 'A drama about the Novichok poisoning crisis in Salisbury in 2018.', 'The missions of the Strategic Homeland Intervention, Enforcement and Logistics Division.', 'When a young boy disappears, his mother, a police chief and his friends must confront terrifying supernatural forces in order to get him back.', \"Payton Hobart, a student from Santa Barbara, has known since age seven that he's going to be President of the United States. But first he'll have to navigate the most treacherous political landscape of all: Saint Sebastian High School.\", 'With his debts mounting and angry collectors closing in, a fast-talking New York City jeweler risks everything in hope of staying afloat and alive.', 'An English combat nurse from 1945 is mysteriously swept back in time to 1743.', '\"Brooklyn Nine-Nine\" follows the exploits of hilarious Det. Jake Peralta and his diverse, lovable colleagues as they police the NYPD\\'s 99th Precinct.', \"When rich video-store magnate Johnny Rose and his family suddenly find themselves broke, they are forced to leave their pampered lives to regroup in Schitt's Creek.\", 'Set at the intersection of the near future and the reimagined past, explore a world in which every human appetite can be indulged without consequence.', 'New Jersey mob boss Tony Soprano deals with personal and professional issues in his home and business life that affect his mental state, leading him to seek professional psychiatric counseling.', \"An anthology series exploring a twisted, high-tech multiverse where humanity's greatest innovations and darkest instincts collide.\", \"Lucifer Morningstar has decided he's had enough of being the dutiful servant in Hell and decides to spend some time on Earth to better understand humanity. He settles in Los Angeles - the City of Angels.\", 'A group of ambitious law students and their brilliant criminal defense professor become involved in a twisted murder plot that promises to change the course of their lives.', 'A woman who moves into an apartment across the hall from two brilliant but socially awkward physicists shows them how little they know about life outside of the laboratory.', 'Greed and class discrimination threaten the newly formed symbiotic relationship between the wealthy Park family and the destitute Kim clan.', 'In the not-too-distant future, as a final response to terrorism and crime, the U.S. government plans to broadcast a signal making it impossible for anyone to knowingly commit unlawful acts.', 'After a series of events, the lives of a security operative and an assassin become inextricably linked.', \"Teresa flees Mexico after her drug-runner boyfriend is murdered. Settling in Dallas she looks to become the country's reigning drug smuggler and to avenge her lover's murder.\", \"A faded television actor and his stunt double strive to achieve fame and success in the final years of Hollywood's Golden Age in 1969 Los Angeles.\", 'The survivors of a plane crash are forced to work together in order to survive on a seemingly deserted tropical island.', 'Centers on three South Carolina women, best friends since high school, as they shepherd each other through the complexities of romance, career, and family.', \"Twelve strangers wake up in a clearing. They don't know where they are, or how they got there. They don't know they've been chosen - for a very specific purpose - The Hunt.\", 'In Gotham City, mentally troubled comedian Arthur Fleck is disregarded and mistreated by society. He then embarks on a downward spiral of revolution and bloody crime. This path brings him face-to-face with his alter-ego: the Joker.', 'A series about a powerful friendship that blossoms between a tightly wound widow and a free spirit with a shocking secret.', 'A royal woman living in rural Prussia during the 18th century is forced to choose between her own personal happiness and the future of Russia, when she marries an Emperor.', 'An American expat tries to sell off his highly profitable marijuana empire in London, triggering plots, schemes, bribery and blackmail in an attempt to steal his domain out from under him.', 'The trials and tribulations of criminal lawyer Jimmy McGill in the time before he established his strip-mall law office in Albuquerque, New Mexico.', 'A bipolar CIA operative becomes convinced a prisoner of war has been turned by al-Qaeda and is planning to carry out a terrorist attack on American soil.', 'Teenager Courtney Whitmore joins the Justice Society of America. Based on the character from DC Comics.', 'A new FBI profiler, Elizabeth Keen, has her entire life uprooted when a mysterious criminal, Raymond Reddington, who has eluded capture for decades, turns himself in and insists on speaking only to her.', \"After being struck by lightning, Barry Allen wakes up from his coma to discover he's been given the power of super speed, becoming the next Flash, fighting crime in Central City.\", 'After a bad break-up, Jess, an offbeat young woman, moves into an apartment loft with three single men. Although they find her behavior very unusual, the men support her - most of the time.', 'World-renowned civil rights defense attorney Bryan Stevenson works to free a wrongly condemned death row prisoner.', 'The travels of a lone bounty hunter in the outer reaches of the galaxy, far from the authority of the New Republic.', 'This series follows the Special Victims Unit, a specially trained squad of detectives in the N.Y.P.D., who investigate sexually related crimes.', 'A group of teenagers from the wrong side of the tracks stumble upon a treasure map that unearths a long buried secret.', 'A biker struggles to balance being a father and being involved in an outlaw motorcycle club.', \"The absurd antics of an Indiana town's public officials as they pursue sundry projects to make their city a better place.\", 'The Baltimore drug scene, as seen through the eyes of drug dealers and law enforcement.', 'A teenage sorceress named Nimue encounters a young Arthur on his quest to find a powerful and ancient sword.', \"Feature adaptation of Frank Herbert's science fiction novel, about the son of a noble family entrusted with the protection of the most valuable asset and most vital element in the galaxy.\", 'When terrorists try to seize control of a Berlin-Paris flight, a soft-spoken young American co-pilot struggles to save the lives of the passengers and crew while forging a surprising connection with one of the hijackers.', 'A woman returns to her childhood home in northern Italy, which triggers terrifying hauntings.', \"Once told they'd save the universe during a time-traveling adventure, 2 would-be rockers from San Dimas, California find themselves as middle-aged dads still trying to crank out a hit song and fulfill their destiny.\", 'Set in a dystopian future, a woman is forced to live as a concubine under a fundamentalist theocratic dictatorship.', 'Due to a political conspiracy, an innocent man is sent to death row and his only hope is his brother, who makes it his mission to deliberately get himself sent to the same prison in order to break the both of them out, from the inside.', 'Two scheming men get caught up in a game of one upmanship, each one attracting other members to their clan and each one with an agenda of his own.', \"The cases of the Naval Criminal Investigative Service's Washington, D.C. Major Case Response Team, led by Special Agent Leroy Jethro Gibbs.\", 'A young woman, destined to slay vampires, demons and other infernal creatures, deals with her life fighting evil, with the help of her friends.', 'A woman tries to solve the mysterious death of her brother, a famous DJ who disappeared from Ibiza many years ago.', 'An anthology series centering on different characters and locations, including a house with a murderous past, an insane asylum, a witch coven, a freak show circus, a haunted hotel, a possessed farmhouse, a cult, the apocalypse, and a slasher summer camp.', \"Follows Marianne and Connell, from different backgrounds but the same small town in Ireland, as they weave in and out of each other's romantic lives.\", \"After the devastating events of Avengers: Infinity War (2018), the universe is in ruins. With the help of remaining allies, the Avengers assemble once more in order to reverse Thanos' actions and restore balance to the universe.\", 'Various chronicles of deception, intrigue and murder in and around frozen Minnesota. Yet all of these tales mysteriously lead back one way or another to Fargo, North Dakota.', 'The adventures of an idealistic mad scientist and his field team of superpowered outcasts.', 'A comedy revolving around a group of teenage friends, their mishaps, and their coming of age, set in 1970s Wisconsin.', 'The further adventures in time and space of the alien adventurer known as the Doctor and their companions from planet Earth.', \"A modern take on Charles Dickens's classic tale of a young orphan who is able to triumph over many obstacles.\", \"When Cecilia's abusive ex takes his own life and leaves her his fortune, she suspects his death was a hoax. As a series of coincidences turn lethal, Cecilia works to prove that she is being hunted by someone nobody can see.\", 'April 6th, 1917. As a regiment assembles to wage war deep in enemy territory, two soldiers are assigned to race against time and deliver a message that will stop 1,600 men from walking straight into a deadly trap.', 'In the twilight of the 1950s, on one fateful night in New Mexico, young switchboard operator Fay and charismatic radio DJ Everett discover a strange audio frequency that could change their small town and the future forever.']\n",
            "['TV-MA', 'R', 'PG', 'R', 'TV-MA', 'PG-13', 'TV-MA', 'TV-MA', 'TV-14', 'TV-MA', 'R', 'TV-MA', 'TV-MA', 'TV-14', 'TV-14', 'TV-MA', 'TV-14', 'TV-MA', 'TV-MA', 'TV-14', '90 min', 'TV-MA', 'TV-MA', 'TV-14', 'TV-MA', 'TV-Y7-FV', 'TV-14', 'TV-14', 'PG-13', 'TV-14', 'TV-MA', 'TV-MA', 'TV-14', 'TV-MA', 'TV-PG', 'TV-MA', 'TV-14', 'TV-MA', 'TV-MA', '45 min', 'TV-PG', 'TV-14', 'TV-14', 'R', 'TV-MA', 'TV-14', 'TV-14', 'TV-MA', 'TV-MA', 'TV-MA', 'TV-14', 'TV-14', 'TV-14', 'R', 'TV-MA', 'TV-14', 'TV-MA', 'R', 'TV-14', 'TV-14', 'R', 'R', 'TV-MA', 'TV-MA', 'R', 'TV-MA', 'TV-MA', 'TV-PG', 'TV-14', 'TV-PG', 'TV-14', 'PG-13', 'TV-14', 'TV-14', 'TV-MA', 'TV-MA', 'TV-14', 'TV-MA', 'Adventure, Drama, Fantasy', 'Adventure, Drama, Sci-Fi', 'R', 'TV-MA', 'Comedy, Music, Sci-Fi', 'TV-MA', 'TV-14', '124 min', 'TV-14', 'TV-14', 'TV-MA', 'TV-MA', 'TV-14', 'PG-13', 'TV-MA', 'TV-MA', 'TV-PG', 'TV-PG', 'PG', 'R', 'R', 'PG-13']\n",
            "[['114 min'], ['154 min'], ['95 min'], ['136 min'], ['60 min'], ['130 min'], ['60 min'], ['57 min'], ['22 min'], ['30 min'], ['93 min'], ['45 min'], ['60 min'], ['22 min'], ['43 min'], ['44 min'], ['44 min'], ['30 min'], ['60 min'], ['41 min'], ['Comedy', 'Romance'], ['49 min'], ['60 min'], ['44 min'], ['70 min'], ['23 min'], ['30 min'], ['44 min'], ['Action', 'Sci-Fi', 'Thriller'], ['23 min'], ['60 min'], ['60 min'], ['22 min'], ['60 min'], ['22 min'], ['30 min'], ['42 min'], ['60 min'], ['45 min'], ['Crime', 'Drama', 'History'], ['45 min'], ['51 min'], ['42 min'], ['135 min'], ['64 min'], ['22 min'], ['22 min'], ['62 min'], ['55 min'], ['60 min'], ['42 min'], ['43 min'], ['22 min'], ['132 min'], ['148 min'], ['42 min'], ['42 min'], ['161 min'], ['44 min'], ['Drama', 'Romance'], ['90 min'], ['122 min'], ['30 min'], ['Biography', 'Comedy', 'Drama'], ['113 min'], ['46 min'], ['55 min'], ['45 min'], ['43 min'], ['43 min'], ['22 min'], ['137 min'], ['40 min'], ['60 min'], ['50 min'], ['45 min'], ['22 min'], ['59 min'], ['Filming'], ['Post-production'], ['93 min'], ['Fantasy', 'Mystery', 'Thriller'], ['Post-production'], ['60 min'], ['44 min'], ['Comedy', 'Drama'], ['60 min'], ['44 min'], ['60 min'], ['60 min'], ['Drama', 'Romance'], ['181 min'], ['53 min'], ['60 min'], ['22 min'], ['45 min'], ['119 min'], ['124 min'], ['119 min'], ['91 min']]\n",
            "['17,523', '18,976', '10,916', '9,766', '192,795', '331,684', '242,519', '1,685,186', '198,051', '30,883', '3,726', '20,062', '7,601', '365,191', '196,679', '394,521', '375,013', '26,345', '14,646', '235,178', '290', '1,366,493', '159,745', '216,745', '253,836', '222,088', '2,518', '828,456', nan, '344,927', '295,611', '16,778', '770,137', '72,597', '332,331', '26,285', '150,819', '64,557', '75,468', '1,011', '191,503', '748,097', '14,095', '183,055', '112,858', '197,516', '36,157', '403,836', '280,892', '406,843', '197,102', '117,567', '691,811', '434,739', '6,222', '75,135', '15,697', '482,813', '478,540', '4,405', '41,611', '815,508', '45,460', '8,010', '152,244', '297,126', '302,057', '3,949', '182,550', '297,562', '178,877', '32,813', '175,899', '76,365', '13,220', '245,673', '198,901', '269,981', nan, nan, '4,853', '1,741', nan, '155,548', '457,286', '6,734', '114,737', '124,453', '10,208', '266,531', '18,756', '732,130', '304,064', '25,931', '149,447', '194,244', '4,446', '110,826', '333,347', '11,484']\n",
            "[nan, nan, nan, nan, nan, '$165.36M', nan, nan, nan, nan, nan, nan, nan, nan, nan, nan, nan, nan, nan, nan, nan, nan, nan, nan, nan, nan, nan, nan, nan, nan, nan, nan, nan, nan, nan, nan, nan, nan, nan, nan, nan, nan, nan, nan, nan, nan, nan, nan, nan, nan, nan, nan, nan, '$53.37M', nan, nan, nan, '$142.50M', nan, nan, nan, '$335.45M', nan, nan, nan, nan, nan, nan, nan, nan, nan, nan, nan, nan, nan, nan, nan, nan, nan, nan, nan, nan, nan, nan, nan, nan, nan, nan, nan, nan, nan, '$858.37M', nan, nan, nan, nan, nan, nan, '$159.23M', nan]\n"
          ],
          "name": "stdout"
        }
      ]
    }
  ]
}